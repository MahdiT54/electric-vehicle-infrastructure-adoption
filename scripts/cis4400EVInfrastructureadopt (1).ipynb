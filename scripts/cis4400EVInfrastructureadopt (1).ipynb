{
  "cells": [
    {
      "cell_type": "code",
      "execution_count": null,
      "metadata": {
        "colab": {
          "base_uri": "https://localhost:8080/"
        },
        "id": "oLHsNsDQH23U",
        "outputId": "06a472f2-0a2b-4d58-d3f6-9f4bf0692d72"
      },
      "outputs": [
        {
          "name": "stdout",
          "output_type": "stream",
          "text": [
            "Collecting azure-storage-blob\n",
            "  Downloading azure_storage_blob-12.19.1-py3-none-any.whl (394 kB)\n",
            "\u001b[2K     \u001b[90m━━━━━━━━━━━━━━━━━━━━━━━━━━━━━━━━━━━━━━━━\u001b[0m \u001b[32m394.5/394.5 kB\u001b[0m \u001b[31m5.2 MB/s\u001b[0m eta \u001b[36m0:00:00\u001b[0m\n",
            "\u001b[?25hCollecting azure-core<2.0.0,>=1.28.0 (from azure-storage-blob)\n",
            "  Downloading azure_core-1.30.1-py3-none-any.whl (193 kB)\n",
            "\u001b[2K     \u001b[90m━━━━━━━━━━━━━━━━━━━━━━━━━━━━━━━━━━━━━━━━\u001b[0m \u001b[32m193.4/193.4 kB\u001b[0m \u001b[31m7.8 MB/s\u001b[0m eta \u001b[36m0:00:00\u001b[0m\n",
            "\u001b[?25hRequirement already satisfied: cryptography>=2.1.4 in /usr/local/lib/python3.10/dist-packages (from azure-storage-blob) (42.0.5)\n",
            "Requirement already satisfied: typing-extensions>=4.3.0 in /usr/local/lib/python3.10/dist-packages (from azure-storage-blob) (4.10.0)\n",
            "Collecting isodate>=0.6.1 (from azure-storage-blob)\n",
            "  Downloading isodate-0.6.1-py2.py3-none-any.whl (41 kB)\n",
            "\u001b[2K     \u001b[90m━━━━━━━━━━━━━━━━━━━━━━━━━━━━━━━━━━━━━━━━\u001b[0m \u001b[32m41.7/41.7 kB\u001b[0m \u001b[31m4.1 MB/s\u001b[0m eta \u001b[36m0:00:00\u001b[0m\n",
            "\u001b[?25hRequirement already satisfied: requests>=2.21.0 in /usr/local/lib/python3.10/dist-packages (from azure-core<2.0.0,>=1.28.0->azure-storage-blob) (2.31.0)\n",
            "Requirement already satisfied: six>=1.11.0 in /usr/local/lib/python3.10/dist-packages (from azure-core<2.0.0,>=1.28.0->azure-storage-blob) (1.16.0)\n",
            "Requirement already satisfied: cffi>=1.12 in /usr/local/lib/python3.10/dist-packages (from cryptography>=2.1.4->azure-storage-blob) (1.16.0)\n",
            "Requirement already satisfied: pycparser in /usr/local/lib/python3.10/dist-packages (from cffi>=1.12->cryptography>=2.1.4->azure-storage-blob) (2.22)\n",
            "Requirement already satisfied: charset-normalizer<4,>=2 in /usr/local/lib/python3.10/dist-packages (from requests>=2.21.0->azure-core<2.0.0,>=1.28.0->azure-storage-blob) (3.3.2)\n",
            "Requirement already satisfied: idna<4,>=2.5 in /usr/local/lib/python3.10/dist-packages (from requests>=2.21.0->azure-core<2.0.0,>=1.28.0->azure-storage-blob) (3.6)\n",
            "Requirement already satisfied: urllib3<3,>=1.21.1 in /usr/local/lib/python3.10/dist-packages (from requests>=2.21.0->azure-core<2.0.0,>=1.28.0->azure-storage-blob) (2.0.7)\n",
            "Requirement already satisfied: certifi>=2017.4.17 in /usr/local/lib/python3.10/dist-packages (from requests>=2.21.0->azure-core<2.0.0,>=1.28.0->azure-storage-blob) (2024.2.2)\n",
            "Installing collected packages: isodate, azure-core, azure-storage-blob\n",
            "Successfully installed azure-core-1.30.1 azure-storage-blob-12.19.1 isodate-0.6.1\n",
            "Requirement already satisfied: pyarrow in /usr/local/lib/python3.10/dist-packages (14.0.2)\n",
            "Requirement already satisfied: numpy>=1.16.6 in /usr/local/lib/python3.10/dist-packages (from pyarrow) (1.25.2)\n"
          ]
        }
      ],
      "source": [
        "!pip3 install azure-storage-blob # Microoft Azure\n",
        "!pip3 install pyarrow # Apache Arrow\n"
      ]
    },
    {
      "cell_type": "code",
      "execution_count": null,
      "metadata": {
        "id": "vwsdpRRmIOpd"
      },
      "outputs": [],
      "source": [
        "# Import libraries\n",
        "from io import StringIO\n",
        "import numpy as np\n",
        "import pandas as pd\n",
        "import json\n",
        "import requests\n",
        "from azure.storage.blob import BlobServiceClient, BlobClient, ContainerClient"
      ]
    },
    {
      "cell_type": "code",
      "execution_count": null,
      "metadata": {
        "colab": {
          "base_uri": "https://localhost:8080/"
        },
        "id": "1dKUzrTYIUV3",
        "outputId": "702bba81-0d2c-42c9-e666-869448e47da7"
      },
      "outputs": [
        {
          "name": "stdout",
          "output_type": "stream",
          "text": [
            "<class 'pandas.core.frame.DataFrame'>\n",
            "RangeIndex: 8000 entries, 0 to 7999\n",
            "Data columns (total 20 columns):\n",
            " #   Column                       Non-Null Count  Dtype \n",
            "---  ------                       --------------  ----- \n",
            " 0   vin_1_10                     8000 non-null   object\n",
            " 1   county                       8000 non-null   object\n",
            " 2   city                         8000 non-null   object\n",
            " 3   state                        8000 non-null   object\n",
            " 4   zip_code                     8000 non-null   object\n",
            " 5   model_year                   8000 non-null   object\n",
            " 6   make                         8000 non-null   object\n",
            " 7   model                        8000 non-null   object\n",
            " 8   ev_type                      8000 non-null   object\n",
            " 9   cafv_type                    8000 non-null   object\n",
            " 10  electric_range               8000 non-null   object\n",
            " 11  base_msrp                    8000 non-null   object\n",
            " 12  legislative_district         8000 non-null   object\n",
            " 13  dol_vehicle_id               8000 non-null   object\n",
            " 14  geocoded_column              8000 non-null   object\n",
            " 15  electric_utility             8000 non-null   object\n",
            " 16  _2020_census_tract           8000 non-null   object\n",
            " 17  :@computed_region_x4ys_rtnd  8000 non-null   object\n",
            " 18  :@computed_region_fny7_vc3j  8000 non-null   object\n",
            " 19  :@computed_region_8ddd_yn5v  8000 non-null   object\n",
            "dtypes: object(20)\n",
            "memory usage: 1.2+ MB\n",
            "None\n",
            "(8000, 20)\n",
            "     vin_1_10     county       city state zip_code model_year   make    model  \\\n",
            "0  5YJYGDEE1L       King    Seattle    WA    98122       2020  TESLA  MODEL Y   \n",
            "1  7SAYGDEE9P  Snohomish    Bothell    WA    98021       2023  TESLA  MODEL Y   \n",
            "2  5YJSA1E4XK       King    Seattle    WA    98109       2019  TESLA  MODEL S   \n",
            "3  5YJSA1E27G       King   Issaquah    WA    98027       2016  TESLA  MODEL S   \n",
            "4  5YJYGDEE5M     Kitsap  Suquamish    WA    98392       2021  TESLA  MODEL Y   \n",
            "\n",
            "                          ev_type  \\\n",
            "0  Battery Electric Vehicle (BEV)   \n",
            "1  Battery Electric Vehicle (BEV)   \n",
            "2  Battery Electric Vehicle (BEV)   \n",
            "3  Battery Electric Vehicle (BEV)   \n",
            "4  Battery Electric Vehicle (BEV)   \n",
            "\n",
            "                                           cafv_type electric_range base_msrp  \\\n",
            "0            Clean Alternative Fuel Vehicle Eligible            291         0   \n",
            "1  Eligibility unknown as battery range has not b...              0         0   \n",
            "2            Clean Alternative Fuel Vehicle Eligible            270         0   \n",
            "3            Clean Alternative Fuel Vehicle Eligible            210         0   \n",
            "4  Eligibility unknown as battery range has not b...              0         0   \n",
            "\n",
            "  legislative_district dol_vehicle_id  \\\n",
            "0                   37      125701579   \n",
            "1                    1      244285107   \n",
            "2                   36      156773144   \n",
            "3                    5      165103011   \n",
            "4                   23      205138552   \n",
            "\n",
            "                                     geocoded_column  \\\n",
            "0  {'type': 'Point', 'coordinates': [-122.30839, ...   \n",
            "1  {'type': 'Point', 'coordinates': [-122.179458,...   \n",
            "2  {'type': 'Point', 'coordinates': [-122.34848, ...   \n",
            "3  {'type': 'Point', 'coordinates': [-122.03646, ...   \n",
            "4  {'type': 'Point', 'coordinates': [-122.55717, ...   \n",
            "\n",
            "                                electric_utility _2020_census_tract  \\\n",
            "0   CITY OF SEATTLE - (WA)|CITY OF TACOMA - (WA)        53033007800   \n",
            "1                         PUGET SOUND ENERGY INC        53061051938   \n",
            "2   CITY OF SEATTLE - (WA)|CITY OF TACOMA - (WA)        53033006800   \n",
            "3  PUGET SOUND ENERGY INC||CITY OF TACOMA - (WA)        53033032104   \n",
            "4                         PUGET SOUND ENERGY INC        53035940100   \n",
            "\n",
            "  :@computed_region_x4ys_rtnd :@computed_region_fny7_vc3j  \\\n",
            "0                        3009                           9   \n",
            "1                        3213                           1   \n",
            "2                        3009                           7   \n",
            "3                        3009                           8   \n",
            "4                         848                           6   \n",
            "\n",
            "  :@computed_region_8ddd_yn5v  \n",
            "0                          38  \n",
            "1                           1  \n",
            "2                          31  \n",
            "3                           6  \n",
            "4                          29  \n"
          ]
        }
      ],
      "source": [
        "#Extracting from datasource\n",
        "URL = \"https://data.wa.gov/resource/f6w7-q2d2.json\"\n",
        "total_rows = 0\n",
        "df_raw = pd.DataFrame()\n",
        "\n",
        "while total_rows < 7500: #set while loop to pass through 1000 rows limit\n",
        "    response = requests.get(URL, params={\"$offset\": total_rows})\n",
        "    data = response.json()\n",
        "    df_raw = pd.concat([df_raw, pd.DataFrame(data)], ignore_index=True) #pd.concat don't use df_raw.append\n",
        "    total_rows += len(data)\n",
        "\n",
        "print(df_raw.info())\n",
        "print(df_raw.shape)\n",
        "print(df_raw.head())"
      ]
    },
    {
      "cell_type": "code",
      "execution_count": 12,
      "metadata": {
        "colab": {
          "base_uri": "https://localhost:8080/",
          "height": 356
        },
        "id": "H0igsJI0_v_3",
        "outputId": "a05b672e-7a95-4da6-c778-b237f3a5eabe"
      },
      "outputs": [
        {
          "ename": "ValueError",
          "evalue": "Connection string is either blank or malformed.",
          "output_type": "error",
          "traceback": [
            "\u001b[0;31m---------------------------------------------------------------------------\u001b[0m",
            "\u001b[0;31mValueError\u001b[0m                                Traceback (most recent call last)",
            "\u001b[0;32m<ipython-input-12-a553b95dec55>\u001b[0m in \u001b[0;36m<cell line: 11>\u001b[0;34m()\u001b[0m\n\u001b[1;32m      9\u001b[0m \u001b[0;34m\u001b[0m\u001b[0m\n\u001b[1;32m     10\u001b[0m \u001b[0;31m# Create the BlobServiceClient object\u001b[0m\u001b[0;34m\u001b[0m\u001b[0;34m\u001b[0m\u001b[0m\n\u001b[0;32m---> 11\u001b[0;31m \u001b[0mblob_service_client\u001b[0m \u001b[0;34m=\u001b[0m \u001b[0mBlobServiceClient\u001b[0m\u001b[0;34m.\u001b[0m\u001b[0mfrom_connection_string\u001b[0m\u001b[0;34m(\u001b[0m\u001b[0mCONNECTION_STRING_AZURE_STORAGE\u001b[0m\u001b[0;34m)\u001b[0m\u001b[0;34m\u001b[0m\u001b[0;34m\u001b[0m\u001b[0m\n\u001b[0m\u001b[1;32m     12\u001b[0m \u001b[0;34m\u001b[0m\u001b[0m\n\u001b[1;32m     13\u001b[0m \u001b[0;31m# Get a blob client using the container name and blob name\u001b[0m\u001b[0;34m\u001b[0m\u001b[0;34m\u001b[0m\u001b[0m\n",
            "\u001b[0;32m/usr/local/lib/python3.10/dist-packages/azure/storage/blob/_blob_service_client.py\u001b[0m in \u001b[0;36mfrom_connection_string\u001b[0;34m(cls, conn_str, credential, **kwargs)\u001b[0m\n\u001b[1;32m    188\u001b[0m                 \u001b[0;34m:\u001b[0m\u001b[0mcaption\u001b[0m\u001b[0;34m:\u001b[0m \u001b[0mCreating\u001b[0m \u001b[0mthe\u001b[0m \u001b[0mBlobServiceClient\u001b[0m \u001b[0;32mfrom\u001b[0m \u001b[0ma\u001b[0m \u001b[0mconnection\u001b[0m \u001b[0mstring\u001b[0m\u001b[0;34m.\u001b[0m\u001b[0;34m\u001b[0m\u001b[0;34m\u001b[0m\u001b[0m\n\u001b[1;32m    189\u001b[0m         \"\"\"\n\u001b[0;32m--> 190\u001b[0;31m         \u001b[0maccount_url\u001b[0m\u001b[0;34m,\u001b[0m \u001b[0msecondary\u001b[0m\u001b[0;34m,\u001b[0m \u001b[0mcredential\u001b[0m \u001b[0;34m=\u001b[0m \u001b[0mparse_connection_str\u001b[0m\u001b[0;34m(\u001b[0m\u001b[0mconn_str\u001b[0m\u001b[0;34m,\u001b[0m \u001b[0mcredential\u001b[0m\u001b[0;34m,\u001b[0m \u001b[0;34m'blob'\u001b[0m\u001b[0;34m)\u001b[0m\u001b[0;34m\u001b[0m\u001b[0;34m\u001b[0m\u001b[0m\n\u001b[0m\u001b[1;32m    191\u001b[0m         \u001b[0;32mif\u001b[0m \u001b[0;34m'secondary_hostname'\u001b[0m \u001b[0;32mnot\u001b[0m \u001b[0;32min\u001b[0m \u001b[0mkwargs\u001b[0m\u001b[0;34m:\u001b[0m\u001b[0;34m\u001b[0m\u001b[0;34m\u001b[0m\u001b[0m\n\u001b[1;32m    192\u001b[0m             \u001b[0mkwargs\u001b[0m\u001b[0;34m[\u001b[0m\u001b[0;34m'secondary_hostname'\u001b[0m\u001b[0;34m]\u001b[0m \u001b[0;34m=\u001b[0m \u001b[0msecondary\u001b[0m\u001b[0;34m\u001b[0m\u001b[0;34m\u001b[0m\u001b[0m\n",
            "\u001b[0;32m/usr/local/lib/python3.10/dist-packages/azure/storage/blob/_shared/base_client.py\u001b[0m in \u001b[0;36mparse_connection_str\u001b[0;34m(conn_str, credential, service)\u001b[0m\n\u001b[1;32m    369\u001b[0m     \u001b[0mconn_settings\u001b[0m \u001b[0;34m=\u001b[0m \u001b[0;34m[\u001b[0m\u001b[0ms\u001b[0m\u001b[0;34m.\u001b[0m\u001b[0msplit\u001b[0m\u001b[0;34m(\u001b[0m\u001b[0;34m\"=\"\u001b[0m\u001b[0;34m,\u001b[0m \u001b[0;36m1\u001b[0m\u001b[0;34m)\u001b[0m \u001b[0;32mfor\u001b[0m \u001b[0ms\u001b[0m \u001b[0;32min\u001b[0m \u001b[0mconn_str\u001b[0m\u001b[0;34m.\u001b[0m\u001b[0msplit\u001b[0m\u001b[0;34m(\u001b[0m\u001b[0;34m\";\"\u001b[0m\u001b[0;34m)\u001b[0m\u001b[0;34m]\u001b[0m\u001b[0;34m\u001b[0m\u001b[0;34m\u001b[0m\u001b[0m\n\u001b[1;32m    370\u001b[0m     \u001b[0;32mif\u001b[0m \u001b[0many\u001b[0m\u001b[0;34m(\u001b[0m\u001b[0mlen\u001b[0m\u001b[0;34m(\u001b[0m\u001b[0mtup\u001b[0m\u001b[0;34m)\u001b[0m \u001b[0;34m!=\u001b[0m \u001b[0;36m2\u001b[0m \u001b[0;32mfor\u001b[0m \u001b[0mtup\u001b[0m \u001b[0;32min\u001b[0m \u001b[0mconn_settings\u001b[0m\u001b[0;34m)\u001b[0m\u001b[0;34m:\u001b[0m\u001b[0;34m\u001b[0m\u001b[0;34m\u001b[0m\u001b[0m\n\u001b[0;32m--> 371\u001b[0;31m         \u001b[0;32mraise\u001b[0m \u001b[0mValueError\u001b[0m\u001b[0;34m(\u001b[0m\u001b[0;34m\"Connection string is either blank or malformed.\"\u001b[0m\u001b[0;34m)\u001b[0m\u001b[0;34m\u001b[0m\u001b[0;34m\u001b[0m\u001b[0m\n\u001b[0m\u001b[1;32m    372\u001b[0m     \u001b[0mconn_settings\u001b[0m \u001b[0;34m=\u001b[0m \u001b[0mdict\u001b[0m\u001b[0;34m(\u001b[0m\u001b[0;34m(\u001b[0m\u001b[0mkey\u001b[0m\u001b[0;34m.\u001b[0m\u001b[0mupper\u001b[0m\u001b[0;34m(\u001b[0m\u001b[0;34m)\u001b[0m\u001b[0;34m,\u001b[0m \u001b[0mval\u001b[0m\u001b[0;34m)\u001b[0m \u001b[0;32mfor\u001b[0m \u001b[0mkey\u001b[0m\u001b[0;34m,\u001b[0m \u001b[0mval\u001b[0m \u001b[0;32min\u001b[0m \u001b[0mconn_settings\u001b[0m\u001b[0;34m)\u001b[0m\u001b[0;34m\u001b[0m\u001b[0;34m\u001b[0m\u001b[0m\n\u001b[1;32m    373\u001b[0m     \u001b[0mendpoints\u001b[0m \u001b[0;34m=\u001b[0m \u001b[0m_SERVICE_PARAMS\u001b[0m\u001b[0;34m[\u001b[0m\u001b[0mservice\u001b[0m\u001b[0;34m]\u001b[0m\u001b[0;34m\u001b[0m\u001b[0;34m\u001b[0m\u001b[0m\n",
            "\u001b[0;31mValueError\u001b[0m: Connection string is either blank or malformed."
          ]
        }
      ],
      "source": [
        "# how do i hide this key? I can't push onto github with key visible\n",
        "CONNECTION_STRING_AZURE_STORAGE = \"connectionkey\"\n",
        "CONTAINER_AZURE = 'evinfra'\n",
        "blob_name = \"evinfra_20240402.csv\"\n",
        "# Convert DataFrame to CSV\n",
        "output = StringIO()\n",
        "df_raw.to_csv(output, index=False)\n",
        "data = output.getvalue()\n",
        "output.close()\n",
        "\n",
        "# Create the BlobServiceClient object\n",
        "blob_service_client = BlobServiceClient.from_connection_string(CONNECTION_STRING_AZURE_STORAGE)\n",
        "\n",
        "# Get a blob client using the container name and blob name\n",
        "blob_client = blob_service_client.get_blob_client(container=CONTAINER_AZURE, blob=blob_name)\n",
        "\n",
        "# Upload the CSV data\n",
        "blob_client.upload_blob(data, overwrite=True)\n",
        "\n",
        "print(f\"Uploaded {blob_name} to Azure Blob Storage in container {CONTAINER_AZURE}.\")"
      ]
    }
  ],
  "metadata": {
    "colab": {
      "provenance": []
    },
    "kernelspec": {
      "display_name": "Python 3",
      "name": "python3"
    },
    "language_info": {
      "name": "python"
    }
  },
  "nbformat": 4,
  "nbformat_minor": 0
}
